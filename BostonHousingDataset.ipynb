{
 "cells": [
  {
   "cell_type": "markdown",
   "metadata": {
    "id": "ToVUSDXxqwBV"
   },
   "source": [
    "# Regression Analysis with the Boston Housing Dataset in Keras\n",
    "\n",
    "In this notebook we will cover the following issues:\n",
    "\n",
    "* How to create a simple regressor NN model and work with continuous numerical data\n",
    "* Using K-Fold cross-validation in order to get more general results for our models (Sklearn library used for that)\n",
    "    * Generally, we will use 10-Fold cross-validation as 9 fold for training, and 1 fold for validation-set.;\n",
    "<img src=\"images/KFoldCrossValidation.png\" width=600 height=400>\n",
    "    \n",
    "* Mean Squared Error (MSE) and Mean Absolute Error (MAE)\n",
    "    * We can use both of them as loss function, and evaluation matrices for regression analysis;\n",
    "    * Formulas;\n",
    "<img src=\"images/MSE.png\" width=400 height=400>   \n",
    "\n",
    "* Vusualizing and observing feature correlation on heatmap\n",
    "* Feature Selection for more generalized data"
   ]
  },
  {
   "cell_type": "markdown",
   "metadata": {
    "id": "7t63OCoI8OrG"
   },
   "source": [
    "### Required Modules"
   ]
  },
  {
   "cell_type": "code",
   "execution_count": 1,
   "metadata": {
    "executionInfo": {
     "elapsed": 4026,
     "status": "ok",
     "timestamp": 1602092703579,
     "user": {
      "displayName": "Huzeyfe Ayaz",
      "photoUrl": "",
      "userId": "04212809444872264866"
     },
     "user_tz": -180
    },
    "id": "t1y5gDoD5FjH"
   },
   "outputs": [],
   "source": [
    "from keras.datasets import boston_housing\n",
    "import numpy as np\n",
    "from keras import models, layers\n",
    "from sklearn.preprocessing import StandardScaler\n",
    "from sklearn.model_selection import KFold\n",
    "import seaborn as sns\n",
    "import pandas as pd\n",
    "import matplotlib.pyplot as plt\n",
    "from sklearn.ensemble import RandomForestRegressor"
   ]
  },
  {
   "cell_type": "markdown",
   "metadata": {
    "id": "iwUoabjZ8SHg"
   },
   "source": [
    "### Loading and Exploring Dataset"
   ]
  },
  {
   "cell_type": "code",
   "execution_count": 2,
   "metadata": {
    "colab": {
     "base_uri": "https://localhost:8080/"
    },
    "executionInfo": {
     "elapsed": 4015,
     "status": "ok",
     "timestamp": 1602092703590,
     "user": {
      "displayName": "Huzeyfe Ayaz",
      "photoUrl": "",
      "userId": "04212809444872264866"
     },
     "user_tz": -180
    },
    "id": "r2tBxv0m5NZc",
    "outputId": "386a69d2-3cf0-4d8d-c310-6a1f50728c17"
   },
   "outputs": [
    {
     "name": "stdout",
     "output_type": "stream",
     "text": [
      "Downloading data from https://storage.googleapis.com/tensorflow/tf-keras-datasets/boston_housing.npz\n",
      "57344/57026 [==============================] - 0s 0us/step\n"
     ]
    }
   ],
   "source": [
    "(train_data, train_labels), (test_data, test_labels) = boston_housing.load_data()"
   ]
  },
  {
   "cell_type": "markdown",
   "metadata": {
    "id": "dhVAXphw-Qla"
   },
   "source": [
    "* In this case, we have a limited dataset 404 samples for training and 102 samples for testing."
   ]
  },
  {
   "cell_type": "code",
   "execution_count": 3,
   "metadata": {
    "colab": {
     "base_uri": "https://localhost:8080/"
    },
    "executionInfo": {
     "elapsed": 4007,
     "status": "ok",
     "timestamp": 1602092703591,
     "user": {
      "displayName": "Huzeyfe Ayaz",
      "photoUrl": "",
      "userId": "04212809444872264866"
     },
     "user_tz": -180
    },
    "id": "IzEI0Y1g5kF9",
    "outputId": "2d7a901b-9ede-437c-f5e3-c6b01b8e4666"
   },
   "outputs": [
    {
     "data": {
      "text/plain": [
       "(404, 13)"
      ]
     },
     "execution_count": 3,
     "metadata": {
      "tags": []
     },
     "output_type": "execute_result"
    }
   ],
   "source": [
    "train_data.shape"
   ]
  },
  {
   "cell_type": "code",
   "execution_count": 4,
   "metadata": {
    "colab": {
     "base_uri": "https://localhost:8080/"
    },
    "executionInfo": {
     "elapsed": 3991,
     "status": "ok",
     "timestamp": 1602092703593,
     "user": {
      "displayName": "Huzeyfe Ayaz",
      "photoUrl": "",
      "userId": "04212809444872264866"
     },
     "user_tz": -180
    },
    "id": "sWOxUti85lt4",
    "outputId": "ef130873-9107-45e3-c084-20663de55d0a"
   },
   "outputs": [
    {
     "data": {
      "text/plain": [
       "(102, 13)"
      ]
     },
     "execution_count": 4,
     "metadata": {
      "tags": []
     },
     "output_type": "execute_result"
    }
   ],
   "source": [
    "test_data.shape"
   ]
  },
  {
   "cell_type": "markdown",
   "metadata": {
    "id": "CJCtXhhB-kg1"
   },
   "source": [
    "* Labels consist of prices of the houses in Boston in the mid of 1970s.\n",
    "* They were written in short form like 50, which represents 50000$."
   ]
  },
  {
   "cell_type": "code",
   "execution_count": 5,
   "metadata": {
    "colab": {
     "base_uri": "https://localhost:8080/"
    },
    "executionInfo": {
     "elapsed": 3975,
     "status": "ok",
     "timestamp": 1602092703594,
     "user": {
      "displayName": "Huzeyfe Ayaz",
      "photoUrl": "",
      "userId": "04212809444872264866"
     },
     "user_tz": -180
    },
    "id": "h-YibCX_5owL",
    "outputId": "70816598-bb8e-4499-f6d5-6309e0ea5ca9"
   },
   "outputs": [
    {
     "data": {
      "text/plain": [
       "array([15.2, 42.3, 50. , 21.1, 17.7, 18.5, 11.3, 15.6, 15.6, 14.4])"
      ]
     },
     "execution_count": 5,
     "metadata": {
      "tags": []
     },
     "output_type": "execute_result"
    }
   ],
   "source": [
    "train_labels[:10]"
   ]
  },
  {
   "cell_type": "markdown",
   "metadata": {
    "id": "LAR5N-lnr5Wa"
   },
   "source": [
    "### Normalizing Data\n",
    "\n",
    "* StandardScaler in Scikit-learn library normalizes data in feature-based instead of sample base."
   ]
  },
  {
   "cell_type": "code",
   "execution_count": 6,
   "metadata": {
    "executionInfo": {
     "elapsed": 3964,
     "status": "ok",
     "timestamp": 1602092703595,
     "user": {
      "displayName": "Huzeyfe Ayaz",
      "photoUrl": "",
      "userId": "04212809444872264866"
     },
     "user_tz": -180
    },
    "id": "Po9LP0Ws528U"
   },
   "outputs": [],
   "source": [
    "std = StandardScaler()\n",
    "\n",
    "train_data = std.fit_transform(train_data)\n",
    "test_data = std.transform(test_data)"
   ]
  },
  {
   "cell_type": "code",
   "execution_count": 7,
   "metadata": {
    "colab": {
     "base_uri": "https://localhost:8080/"
    },
    "executionInfo": {
     "elapsed": 3953,
     "status": "ok",
     "timestamp": 1602092703596,
     "user": {
      "displayName": "Huzeyfe Ayaz",
      "photoUrl": "",
      "userId": "04212809444872264866"
     },
     "user_tz": -180
    },
    "id": "kiCLGK_N6py6",
    "outputId": "b9e616af-e016-4e94-f493-f9fa6fa145a6"
   },
   "outputs": [
    {
     "data": {
      "text/plain": [
       "array([-0.27224633, -0.48361547, -0.43576161, -0.25683275, -0.1652266 ,\n",
       "       -0.1764426 ,  0.81306188,  0.1166983 , -0.62624905, -0.59517003,\n",
       "        1.14850044,  0.44807713,  0.8252202 ])"
      ]
     },
     "execution_count": 7,
     "metadata": {
      "tags": []
     },
     "output_type": "execute_result"
    }
   ],
   "source": [
    "train_data[0]"
   ]
  },
  {
   "cell_type": "markdown",
   "metadata": {
    "id": "3QmTdMLvChH9"
   },
   "source": [
    "* Before start the fitting process of the model, let's separate 100 samples as validation data from the training"
   ]
  },
  {
   "cell_type": "code",
   "execution_count": null,
   "metadata": {
    "id": "b4zgRpdqyOJL"
   },
   "outputs": [],
   "source": [
    "X_train = train_data[100:]\n",
    "y_train = train_labels[100:]\n",
    "X_val = train_data[:100]\n",
    "y_val = train_labels[:100]"
   ]
  },
  {
   "cell_type": "markdown",
   "metadata": {
    "id": "8zyPe8xhC2MV"
   },
   "source": [
    "### Building and Fitting Model\n",
    "\n",
    "Since we will be using the same model many times later, we have built it inside a function:\n",
    "\n",
    "* Our model consists of 4 hidden layers with 128, 64, 16, and 4 units. Rectified Linear Unit `ReLu` activation function is used.\n",
    "* `Rmsprop` is used as the optimizer. However, you might try `Adam` or `SGD` as well. Besides, we can count `Tanh` activation as another option."
   ]
  },
  {
   "cell_type": "code",
   "execution_count": null,
   "metadata": {
    "id": "J_O4IM3q7JpL"
   },
   "outputs": [],
   "source": [
    "def build_model():\n",
    "  model = models.Sequential()\n",
    "  model.add(layers.Dense(128, activation='relu', input_shape=(train_data.shape[1],)))\n",
    "  model.add(layers.Dense(64, activation='relu'))\n",
    "  model.add(layers.Dense(16, activation='relu'))\n",
    "  model.add(layers.Dense(4, activation='relu'))\n",
    "  model.add(layers.Dense(1)) # For regression, there is no activation function \n",
    "                             # and a single unit should be used in the layer.\n",
    "\n",
    "  model.compile(optimizer='rmsprop', loss='mse', metrics=['mae'])\n",
    "  return model"
   ]
  },
  {
   "cell_type": "code",
   "execution_count": null,
   "metadata": {
    "colab": {
     "base_uri": "https://localhost:8080/",
     "height": 752
    },
    "executionInfo": {
     "elapsed": 9874,
     "status": "ok",
     "timestamp": 1599921262793,
     "user": {
      "displayName": "Huzeyfe Ayaz",
      "photoUrl": "",
      "userId": "04212809444872264866"
     },
     "user_tz": -180
    },
    "id": "IBd1TPXO6q04",
    "outputId": "ad30c3f7-d1bf-4a82-ef6f-1e4dce854860"
   },
   "outputs": [
    {
     "name": "stdout",
     "output_type": "stream",
     "text": [
      "Epoch 1/20\n",
      "76/76 [==============================] - 0s 6ms/step - loss: 200.7920 - mae: 10.9542 - val_loss: 34.8257 - val_mae: 3.9821\n",
      "Epoch 2/20\n",
      "76/76 [==============================] - 0s 2ms/step - loss: 31.2657 - mae: 3.9388 - val_loss: 22.4652 - val_mae: 3.3547\n",
      "Epoch 3/20\n",
      "76/76 [==============================] - 0s 3ms/step - loss: 21.0626 - mae: 3.1302 - val_loss: 16.4121 - val_mae: 2.8201\n",
      "Epoch 4/20\n",
      "76/76 [==============================] - 0s 3ms/step - loss: 18.1595 - mae: 2.8867 - val_loss: 15.8029 - val_mae: 2.7889\n",
      "Epoch 5/20\n",
      "76/76 [==============================] - 0s 3ms/step - loss: 15.7975 - mae: 2.7387 - val_loss: 11.3968 - val_mae: 2.2820\n",
      "Epoch 6/20\n",
      "76/76 [==============================] - 0s 3ms/step - loss: 13.4953 - mae: 2.5800 - val_loss: 11.2366 - val_mae: 2.2701\n",
      "Epoch 7/20\n",
      "76/76 [==============================] - 0s 4ms/step - loss: 13.4130 - mae: 2.5274 - val_loss: 9.8178 - val_mae: 2.1030\n",
      "Epoch 8/20\n",
      "76/76 [==============================] - 0s 3ms/step - loss: 12.0948 - mae: 2.4020 - val_loss: 9.3299 - val_mae: 2.1104\n",
      "Epoch 9/20\n",
      "76/76 [==============================] - 0s 4ms/step - loss: 11.3894 - mae: 2.3949 - val_loss: 10.4932 - val_mae: 2.4091\n",
      "Epoch 10/20\n",
      "76/76 [==============================] - 0s 3ms/step - loss: 10.8076 - mae: 2.3158 - val_loss: 10.3316 - val_mae: 2.1055\n",
      "Epoch 11/20\n",
      "76/76 [==============================] - 0s 2ms/step - loss: 10.5169 - mae: 2.2215 - val_loss: 9.4314 - val_mae: 2.2133\n",
      "Epoch 12/20\n",
      "76/76 [==============================] - 0s 2ms/step - loss: 10.2677 - mae: 2.1976 - val_loss: 9.5232 - val_mae: 2.0619\n",
      "Epoch 13/20\n",
      "76/76 [==============================] - 0s 2ms/step - loss: 9.5174 - mae: 2.1841 - val_loss: 9.0677 - val_mae: 2.0037\n",
      "Epoch 14/20\n",
      "76/76 [==============================] - 0s 3ms/step - loss: 9.5246 - mae: 2.1679 - val_loss: 8.8564 - val_mae: 2.0838\n",
      "Epoch 15/20\n",
      "76/76 [==============================] - 0s 3ms/step - loss: 8.5810 - mae: 2.0324 - val_loss: 11.9337 - val_mae: 2.6505\n",
      "Epoch 16/20\n",
      "76/76 [==============================] - 0s 3ms/step - loss: 8.9526 - mae: 2.0774 - val_loss: 8.7399 - val_mae: 2.1499\n",
      "Epoch 17/20\n",
      "76/76 [==============================] - 0s 3ms/step - loss: 9.0899 - mae: 2.1315 - val_loss: 11.3549 - val_mae: 2.4972\n",
      "Epoch 18/20\n",
      "76/76 [==============================] - 0s 3ms/step - loss: 8.9507 - mae: 2.0769 - val_loss: 10.5244 - val_mae: 2.1637\n",
      "Epoch 19/20\n",
      "76/76 [==============================] - 0s 3ms/step - loss: 8.8349 - mae: 2.0666 - val_loss: 8.6087 - val_mae: 2.1143\n",
      "Epoch 20/20\n",
      "76/76 [==============================] - 0s 2ms/step - loss: 7.9484 - mae: 1.9909 - val_loss: 8.0303 - val_mae: 1.9691\n"
     ]
    }
   ],
   "source": [
    "model = build_model()\n",
    "history = model.fit(X_train, y_train, epochs=20, batch_size=4, validation_data=(X_val, y_val))"
   ]
  },
  {
   "cell_type": "markdown",
   "metadata": {
    "id": "Xv3ioOtjDTpD"
   },
   "source": [
    "* At the end of 20 epoch, we got roughly 1.97 validation mean absolute error, which equivalent to 1970\\\\$ error in the validation set.\n",
    "* However, in the test case, we have a 2720\\\\$ error. That makes a 750\\\\$ gap between validation and test scores. That means the model tends to overfit the validation set."
   ]
  },
  {
   "cell_type": "code",
   "execution_count": null,
   "metadata": {
    "colab": {
     "base_uri": "https://localhost:8080/",
     "height": 54
    },
    "executionInfo": {
     "elapsed": 10162,
     "status": "ok",
     "timestamp": 1599921263108,
     "user": {
      "displayName": "Huzeyfe Ayaz",
      "photoUrl": "",
      "userId": "04212809444872264866"
     },
     "user_tz": -180
    },
    "id": "eWEocxSm8QPC",
    "outputId": "990347fb-8b37-4d7a-edb7-a8ffa730d5f5"
   },
   "outputs": [
    {
     "name": "stdout",
     "output_type": "stream",
     "text": [
      "4/4 [==============================] - 0s 2ms/step - loss: 19.0536 - mae: 2.7212\n"
     ]
    },
    {
     "data": {
      "text/plain": [
       "[19.053613662719727, 2.7211787700653076]"
      ]
     },
     "execution_count": 11,
     "metadata": {
      "tags": []
     },
     "output_type": "execute_result"
    }
   ],
   "source": [
    "model.evaluate(test_data, test_labels)"
   ]
  },
  {
   "cell_type": "markdown",
   "metadata": {
    "id": "ZAQhinOGDfCU"
   },
   "source": [
    "### Validating Model Using KFold\n",
    "\n",
    "* Previously, we used 100 samples as validation data, and we observed that data tends to overfit validation data. During K-Fold, we are splitting data in 10 portion that makes 364 training and 40 test sample for each fold.\n",
    "* Now, let's use 10-Fold cross-validation to obtain average test error"
   ]
  },
  {
   "cell_type": "code",
   "execution_count": null,
   "metadata": {
    "colab": {
     "base_uri": "https://localhost:8080/",
     "height": 201
    },
    "executionInfo": {
     "elapsed": 48517,
     "status": "ok",
     "timestamp": 1599921301487,
     "user": {
      "displayName": "Huzeyfe Ayaz",
      "photoUrl": "",
      "userId": "04212809444872264866"
     },
     "user_tz": -180
    },
    "id": "Yuc-XMVW8sqJ",
    "outputId": "f4749c7c-2829-4891-dea3-8336adad181e"
   },
   "outputs": [
    {
     "name": "stdout",
     "output_type": "stream",
     "text": [
      "4/4 [==============================] - 0s 7ms/step - loss: 20.9725 - mae: 2.8901\n",
      "4/4 [==============================] - 0s 5ms/step - loss: 21.1001 - mae: 2.8806\n",
      "4/4 [==============================] - 0s 3ms/step - loss: 19.1039 - mae: 2.7260\n",
      "4/4 [==============================] - 0s 2ms/step - loss: 17.1655 - mae: 2.7352\n",
      "4/4 [==============================] - 0s 3ms/step - loss: 19.2768 - mae: 2.8365\n",
      "4/4 [==============================] - 0s 3ms/step - loss: 23.5524 - mae: 3.2920\n",
      "4/4 [==============================] - 0s 3ms/step - loss: 20.7972 - mae: 2.9213\n",
      "4/4 [==============================] - 0s 3ms/step - loss: 18.9536 - mae: 2.6662\n",
      "4/4 [==============================] - 0s 2ms/step - loss: 19.5892 - mae: 2.8592\n",
      "4/4 [==============================] - 0s 3ms/step - loss: 18.6407 - mae: 2.7264\n"
     ]
    }
   ],
   "source": [
    "kf = KFold(n_splits=10, shuffle=True, random_state=1)\n",
    "val_scores = []\n",
    "test_scores = []\n",
    "\n",
    "for train_index, test_index in kf.split(train_data, train_labels):\n",
    "  X_train, X_val = train_data[train_index], train_data[test_index]\n",
    "  y_train, y_val = train_labels[train_index], train_labels[test_index]\n",
    "\n",
    "  model = build_model()\n",
    "  history = model.fit(X_train, y_train, epochs=20, batch_size=4, verbose=0, validation_data=(X_val, y_val))\n",
    "  val_scores.append(history.history['val_mae'][-1])\n",
    "  test_scores.append(model.evaluate(test_data, test_labels)[1])"
   ]
  },
  {
   "cell_type": "markdown",
   "metadata": {
    "id": "DWMDMTj0xWpb"
   },
   "source": [
    "As a new result, we have a 500\\\\$ gap between validation and test data since we have decreased the amount of validation data."
   ]
  },
  {
   "cell_type": "code",
   "execution_count": null,
   "metadata": {
    "colab": {
     "base_uri": "https://localhost:8080/",
     "height": 35
    },
    "executionInfo": {
     "elapsed": 48510,
     "status": "ok",
     "timestamp": 1599921301503,
     "user": {
      "displayName": "Huzeyfe Ayaz",
      "photoUrl": "",
      "userId": "04212809444872264866"
     },
     "user_tz": -180
    },
    "id": "ueUu2XXVCkj_",
    "outputId": "a8cb1def-3666-44b2-f093-a1e152c2df3c"
   },
   "outputs": [
    {
     "data": {
      "text/plain": [
       "0.5034162402153015"
      ]
     },
     "execution_count": 13,
     "metadata": {
      "tags": []
     },
     "output_type": "execute_result"
    }
   ],
   "source": [
    "np.mean(np.abs(np.ravel(test_scores)-np.ravel(val_scores)))"
   ]
  },
  {
   "cell_type": "markdown",
   "metadata": {
    "id": "5HIt0QImQ2_m"
   },
   "source": [
    "* We have roughly 2850\\\\$ test error on average. That means we hurt the test performance a bit."
   ]
  },
  {
   "cell_type": "code",
   "execution_count": null,
   "metadata": {
    "colab": {
     "base_uri": "https://localhost:8080/",
     "height": 35
    },
    "executionInfo": {
     "elapsed": 48490,
     "status": "ok",
     "timestamp": 1599921301507,
     "user": {
      "displayName": "Huzeyfe Ayaz",
      "photoUrl": "",
      "userId": "04212809444872264866"
     },
     "user_tz": -180
    },
    "id": "5gf80qEqDNkD",
    "outputId": "76657989-328b-4143-9dd9-2e953529462e"
   },
   "outputs": [
    {
     "data": {
      "text/plain": [
       "2.8533445835113525"
      ]
     },
     "execution_count": 14,
     "metadata": {
      "tags": []
     },
     "output_type": "execute_result"
    }
   ],
   "source": [
    "np.mean(test_scores)"
   ]
  },
  {
   "cell_type": "markdown",
   "metadata": {
    "id": "IUQoE3RmEuUQ"
   },
   "source": [
    "Now, since we have limited data, let's repeat the same process without using validation data. But in this case, we will concatenate the train and test samples in order to evaluate our model with a different portion of the whole data-set using 5-fold cross-validation.\n",
    "\n",
    "The main reason we chose 5-fold cross-validation is 1 portion of it comes across almost 100 samples as test data, which is the same amount as the previous case."
   ]
  },
  {
   "cell_type": "code",
   "execution_count": null,
   "metadata": {
    "id": "HmwMv1RSDwjS"
   },
   "outputs": [],
   "source": [
    "X = np.concatenate((train_data, test_data), axis=0)\n",
    "y = np.concatenate((train_labels, test_labels), axis=0)"
   ]
  },
  {
   "cell_type": "code",
   "execution_count": null,
   "metadata": {
    "colab": {
     "base_uri": "https://localhost:8080/",
     "height": 35
    },
    "executionInfo": {
     "elapsed": 48467,
     "status": "ok",
     "timestamp": 1599921301517,
     "user": {
      "displayName": "Huzeyfe Ayaz",
      "photoUrl": "",
      "userId": "04212809444872264866"
     },
     "user_tz": -180
    },
    "id": "s8SQTpbV5pxp",
    "outputId": "4e29c07b-85c8-4317-bce4-3ab3c52cef4c"
   },
   "outputs": [
    {
     "data": {
      "text/plain": [
       "(506, 13)"
      ]
     },
     "execution_count": 16,
     "metadata": {
      "tags": []
     },
     "output_type": "execute_result"
    }
   ],
   "source": [
    "X.shape"
   ]
  },
  {
   "cell_type": "code",
   "execution_count": null,
   "metadata": {
    "colab": {
     "base_uri": "https://localhost:8080/",
     "height": 109
    },
    "executionInfo": {
     "elapsed": 63054,
     "status": "ok",
     "timestamp": 1599921316127,
     "user": {
      "displayName": "Huzeyfe Ayaz",
      "photoUrl": "",
      "userId": "04212809444872264866"
     },
     "user_tz": -180
    },
    "id": "CqVGXzTyDX5o",
    "outputId": "88340082-a115-4f1b-be37-6e335b1c43d6"
   },
   "outputs": [
    {
     "name": "stdout",
     "output_type": "stream",
     "text": [
      "4/4 [==============================] - 0s 2ms/step - loss: 18.3048 - mae: 2.7950\n",
      "4/4 [==============================] - 0s 2ms/step - loss: 12.2931 - mae: 2.3391\n",
      "4/4 [==============================] - 0s 3ms/step - loss: 11.6508 - mae: 2.6909\n",
      "4/4 [==============================] - 0s 2ms/step - loss: 21.0789 - mae: 2.5324\n",
      "4/4 [==============================] - 0s 2ms/step - loss: 10.5325 - mae: 2.4890\n"
     ]
    }
   ],
   "source": [
    "kf = KFold(n_splits=5, shuffle=True, random_state=1)\n",
    "scores = []\n",
    "\n",
    "for train_index, test_index in kf.split(X, y):\n",
    "  X_train, X_test = X[train_index], X[test_index]\n",
    "  y_train, y_test = y[train_index], y[test_index]\n",
    "\n",
    "  model = build_model()\n",
    "  model.fit(X_train, y_train, epochs=20, batch_size=4, verbose=0)\n",
    "  scores.append(model.evaluate(X_test, y_test)[1])"
   ]
  },
  {
   "cell_type": "code",
   "execution_count": null,
   "metadata": {
    "colab": {
     "base_uri": "https://localhost:8080/",
     "height": 109
    },
    "executionInfo": {
     "elapsed": 63038,
     "status": "ok",
     "timestamp": 1599921316132,
     "user": {
      "displayName": "Huzeyfe Ayaz",
      "photoUrl": "",
      "userId": "04212809444872264866"
     },
     "user_tz": -180
    },
    "id": "_NYK3cjVEPKf",
    "outputId": "d1d0f91b-1129-47db-da70-958fc294e0e3"
   },
   "outputs": [
    {
     "data": {
      "text/plain": [
       "[2.794982671737671,\n",
       " 2.3391175270080566,\n",
       " 2.690911054611206,\n",
       " 2.5324416160583496,\n",
       " 2.4890496730804443]"
      ]
     },
     "execution_count": 18,
     "metadata": {
      "tags": []
     },
     "output_type": "execute_result"
    }
   ],
   "source": [
    "scores"
   ]
  },
  {
   "cell_type": "markdown",
   "metadata": {
    "id": "WtiqN6RbRp7k"
   },
   "source": [
    "Now, we have obtained a 2.57 MAE score and 2570\\\\$ overall deviation which is better than our previous cases."
   ]
  },
  {
   "cell_type": "code",
   "execution_count": null,
   "metadata": {
    "colab": {
     "base_uri": "https://localhost:8080/",
     "height": 35
    },
    "executionInfo": {
     "elapsed": 63019,
     "status": "ok",
     "timestamp": 1599921316137,
     "user": {
      "displayName": "Huzeyfe Ayaz",
      "photoUrl": "",
      "userId": "04212809444872264866"
     },
     "user_tz": -180
    },
    "id": "3TnHXHf_EUvT",
    "outputId": "2a74fd09-7944-414e-b5c4-2b1169c060d1"
   },
   "outputs": [
    {
     "data": {
      "text/plain": [
       "2.5693005084991456"
      ]
     },
     "execution_count": 19,
     "metadata": {
      "tags": []
     },
     "output_type": "execute_result"
    }
   ],
   "source": [
    "np.mean(scores)"
   ]
  },
  {
   "cell_type": "markdown",
   "metadata": {
    "id": "YWYkWT-IShT7"
   },
   "source": [
    "### One More Thing!\n",
    "\n",
    "In Kaggle's competition of [Boston Housing](https://www.kaggle.com/c/boston-housing/overview), they were looking at Root Mean Squared Error `RMSE`. Let's change our evaluation matrices as RMSE and re-train our model.\n",
    "\n",
    "* For the formula of RMSE;\n",
    "\n",
    "<img src=\"images/RMSE.png\" width=480 height=360>"
   ]
  },
  {
   "cell_type": "code",
   "execution_count": 17,
   "metadata": {
    "executionInfo": {
     "elapsed": 1125,
     "status": "ok",
     "timestamp": 1602050673975,
     "user": {
      "displayName": "Huzeyfe Ayaz",
      "photoUrl": "",
      "userId": "04212809444872264866"
     },
     "user_tz": -180
    },
    "id": "Pldnml_BbHWI"
   },
   "outputs": [],
   "source": [
    "from keras import backend as K\n",
    "import tensorflow as tf\n",
    "\n",
    "@tf.function\n",
    "def RMSE(y_true, y_pred):\n",
    "    return K.sqrt(K.mean(K.square(y_pred - y_true), axis=-1)) \n",
    "\n",
    "def build_model():\n",
    "  model = models.Sequential()\n",
    "  model.add(layers.Dense(128, activation='relu', input_shape=(train_data.shape[1],)))\n",
    "  model.add(layers.Dense(64, activation='relu'))\n",
    "  model.add(layers.Dense(16, activation='relu'))\n",
    "  model.add(layers.Dense(4, activation='relu'))\n",
    "  model.add(layers.Dense(1))\n",
    "\n",
    "  model.compile(optimizer='rmsprop', loss='mse', metrics=RMSE)\n",
    "  return model"
   ]
  },
  {
   "cell_type": "markdown",
   "metadata": {
    "id": "PQqau6q_b5bp"
   },
   "source": [
    "Since TensorFlow creates randomly initialized weights each time, let's repeat the training process 10 times and take the mean of them."
   ]
  },
  {
   "cell_type": "code",
   "execution_count": 18,
   "metadata": {
    "colab": {
     "base_uri": "https://localhost:8080/"
    },
    "executionInfo": {
     "elapsed": 38916,
     "status": "ok",
     "timestamp": 1602050713227,
     "user": {
      "displayName": "Huzeyfe Ayaz",
      "photoUrl": "",
      "userId": "04212809444872264866"
     },
     "user_tz": -180
    },
    "id": "Qil0solFbHWk",
    "outputId": "1de55eb6-f25d-4f99-b187-eca1e92cc8fd"
   },
   "outputs": [
    {
     "name": "stdout",
     "output_type": "stream",
     "text": [
      "4/4 [==============================] - 0s 2ms/step - loss: 21.1999 - RMSE: 2.8791\n",
      "4/4 [==============================] - 0s 2ms/step - loss: 18.1231 - RMSE: 2.7726\n",
      "4/4 [==============================] - 0s 2ms/step - loss: 18.5403 - RMSE: 2.7231\n",
      "4/4 [==============================] - 0s 2ms/step - loss: 19.5673 - RMSE: 2.7538\n",
      "4/4 [==============================] - 0s 2ms/step - loss: 24.1006 - RMSE: 3.0847\n",
      "4/4 [==============================] - 0s 2ms/step - loss: 17.3106 - RMSE: 2.6433\n",
      "4/4 [==============================] - 0s 2ms/step - loss: 18.4001 - RMSE: 2.7455\n",
      "4/4 [==============================] - 0s 2ms/step - loss: 22.5769 - RMSE: 2.9208\n",
      "4/4 [==============================] - 0s 2ms/step - loss: 18.6691 - RMSE: 2.8329\n",
      "4/4 [==============================] - 0s 2ms/step - loss: 20.3492 - RMSE: 2.6892\n"
     ]
    }
   ],
   "source": [
    "rmse_scores = []\n",
    "for step in range(10):\n",
    "  model = build_model()\n",
    "  model.fit(train_data, train_labels, epochs=20, batch_size=4, verbose=0)\n",
    "  rmse_scores.append(model.evaluate(test_data, test_labels)[1])"
   ]
  },
  {
   "cell_type": "code",
   "execution_count": 19,
   "metadata": {
    "colab": {
     "base_uri": "https://localhost:8080/"
    },
    "executionInfo": {
     "elapsed": 36289,
     "status": "ok",
     "timestamp": 1602050713238,
     "user": {
      "displayName": "Huzeyfe Ayaz",
      "photoUrl": "",
      "userId": "04212809444872264866"
     },
     "user_tz": -180
    },
    "id": "40XYA-7ocKbR",
    "outputId": "97cbcf77-c33e-46e4-b0e0-f852921f9882"
   },
   "outputs": [
    {
     "name": "stdout",
     "output_type": "stream",
     "text": [
      "RMSE Score: 2.8044910430908203\n"
     ]
    }
   ],
   "source": [
    "print('RMSE Score:',np.mean(rmse_scores))"
   ]
  },
  {
   "cell_type": "markdown",
   "metadata": {
    "id": "Q7SYywNIeAv5"
   },
   "source": [
    "We got a 2.8 RMSE score on average, which places us within the top 5 in the leaderboard even without making any feature engineering."
   ]
  },
  {
   "cell_type": "markdown",
   "metadata": {
    "id": "9yFI36R1nYiY"
   },
   "source": [
    "### Future Engineering\n"
   ]
  },
  {
   "cell_type": "markdown",
   "metadata": {
    "id": "nLEJlUdovZqO"
   },
   "source": [
    "#### Feature Correlations\n",
    "\n",
    "Observing the correlation between parameters is important to detect useful ones, and eliminate others, which add some bias, and may mislead the model. For this reason, the heatmap of the correlation between parameters is plotted below. In order to observe better the relationship between output and parameters, targets are also inserted inside correlation as the 13th index. Thus, we can select the most correlated columns with targets."
   ]
  },
  {
   "cell_type": "code",
   "execution_count": 20,
   "metadata": {
    "colab": {
     "base_uri": "https://localhost:8080/",
     "height": 378
    },
    "executionInfo": {
     "elapsed": 2597,
     "status": "ok",
     "timestamp": 1602050792864,
     "user": {
      "displayName": "Huzeyfe Ayaz",
      "photoUrl": "",
      "userId": "04212809444872264866"
     },
     "user_tz": -180
    },
    "id": "CySZXEmeFm7f",
    "outputId": "6ed02790-007c-4d9e-c6a7-a38f4eeb9b42"
   },
   "outputs": [
    {
     "data": {
      "image/png": "[encoded data removed]",
      "text/plain": [
       "<Figure size 720x432 with 2 Axes>"
      ]
     },
     "metadata": {
      "needs_background": "light",
      "tags": []
     },
     "output_type": "display_data"
    }
   ],
   "source": [
    "combined_train = np.concatenate((train_data, train_labels.reshape((-1,1))), axis=1)\n",
    "df = pd.DataFrame(combined_train)\n",
    "\n",
    "fig = plt.figure(figsize=(10,6))\n",
    "sns.heatmap(df.corr(), annot=True)\n",
    "plt.show()"
   ]
  },
  {
   "cell_type": "markdown",
   "metadata": {
    "id": "cIDK2vorXSFX"
   },
   "source": [
    "When we look at the 13th row, the 12th parameter seems the strongest-correlated one negatively, then the 5th column following it. Also, we should exclude highly correlated features since they yield variance, and models will be highly sensitive to training data. But, we should generalize it to get a better score on test data. For instance, the 8th and 9th features have a 0.92 correlation, which is pretty high. In this case, we can extract the 8th parameter since the 9th one is more correlated with the target."
   ]
  },
  {
   "cell_type": "markdown",
   "metadata": {
    "id": "0fXtzA_XndqW"
   },
   "source": [
    "#### Feature Selection\n",
    "\n",
    "After all, it is may hard to detect all anomalies from correlations. For this reason, we may use feature selection techniques with a Random Forest algorithm in Sklearn library, which is quite popular in the ML area.\n",
    "\n",
    "10000 estimators are used for training RandomForesRegressor model. Then, importances of features are returned by `feature_importances_` attribute."
   ]
  },
  {
   "cell_type": "code",
   "execution_count": 8,
   "metadata": {
    "executionInfo": {
     "elapsed": 38487,
     "status": "ok",
     "timestamp": 1602092738140,
     "user": {
      "displayName": "Huzeyfe Ayaz",
      "photoUrl": "",
      "userId": "04212809444872264866"
     },
     "user_tz": -180
    },
    "id": "qfAZ6nPhNt7B"
   },
   "outputs": [],
   "source": [
    "rf = RandomForestRegressor(n_estimators=10000, n_jobs=-1)\n",
    "rf.fit(train_data, train_labels)\n",
    "feature_importance = rf.feature_importances_"
   ]
  },
  {
   "cell_type": "markdown",
   "metadata": {
    "id": "0rSpLBvapZ1Q"
   },
   "source": [
    "You can see the probability of feature importances, and corresponding indices in sorted order below. For this case, we will only consider the first 9 features since others have less than 1% importance."
   ]
  },
  {
   "cell_type": "code",
   "execution_count": 9,
   "metadata": {
    "colab": {
     "base_uri": "https://localhost:8080/"
    },
    "executionInfo": {
     "elapsed": 37563,
     "status": "ok",
     "timestamp": 1602092738144,
     "user": {
      "displayName": "Huzeyfe Ayaz",
      "photoUrl": "",
      "userId": "04212809444872264866"
     },
     "user_tz": -180
    },
    "id": "38w1R8nPfi7F",
    "outputId": "1c97c89b-8388-4072-d5d6-8f50044149d3"
   },
   "outputs": [
    {
     "data": {
      "text/plain": [
       "[0.41543101047382563,\n",
       " 0.38765565617116654,\n",
       " 0.06695360817617603,\n",
       " 0.04643026292834846,\n",
       " 0.018391822652997856,\n",
       " 0.016937947022275624,\n",
       " 0.014196346454481033,\n",
       " 0.011876463158528007,\n",
       " 0.010789064707926142,\n",
       " 0.005342345252706388,\n",
       " 0.004075733256904156,\n",
       " 0.001021874334716227,\n",
       " 0.0008978654099477418]"
      ]
     },
     "execution_count": 9,
     "metadata": {
      "tags": []
     },
     "output_type": "execute_result"
    }
   ],
   "source": [
    "sorted(feature_importance, reverse=True)"
   ]
  },
  {
   "cell_type": "code",
   "execution_count": 23,
   "metadata": {
    "colab": {
     "base_uri": "https://localhost:8080/"
    },
    "executionInfo": {
     "elapsed": 1341,
     "status": "ok",
     "timestamp": 1602050799618,
     "user": {
      "displayName": "Huzeyfe Ayaz",
      "photoUrl": "",
      "userId": "04212809444872264866"
     },
     "user_tz": -180
    },
    "id": "KJhQcmceOBj0",
    "outputId": "afd1e50e-96b3-463c-c132-29ffb0ce5728"
   },
   "outputs": [
    {
     "data": {
      "text/plain": [
       "array([12,  5,  7,  0,  4,  6, 10,  9, 11,  8,  2,  3,  1])"
      ]
     },
     "execution_count": 23,
     "metadata": {
      "tags": []
     },
     "output_type": "execute_result"
    }
   ],
   "source": [
    "sorted_idxs = np.argsort(feature_importance)[::-1]\n",
    "sorted_idxs"
   ]
  },
  {
   "cell_type": "code",
   "execution_count": 62,
   "metadata": {
    "executionInfo": {
     "elapsed": 930,
     "status": "ok",
     "timestamp": 1602051803468,
     "user": {
      "displayName": "Huzeyfe Ayaz",
      "photoUrl": "",
      "userId": "04212809444872264866"
     },
     "user_tz": -180
    },
    "id": "gZfqsGEFGlyK"
   },
   "outputs": [],
   "source": [
    "from keras import backend as K\n",
    "import tensorflow as tf\n",
    "\n",
    "@tf.function\n",
    "def RMSE(y_true, y_pred):\n",
    "    return K.sqrt(K.mean(K.square(y_pred - y_true), axis=-1)) \n",
    "\n",
    "def build_model():\n",
    "  model = models.Sequential()\n",
    "  model.add(layers.Dense(128, activation='relu', input_shape=(9,)))\n",
    "  model.add(layers.Dense(64, activation='relu'))\n",
    "  model.add(layers.Dense(16, activation='relu'))\n",
    "  model.add(layers.Dense(4, activation='relu'))\n",
    "  model.add(layers.Dense(1))\n",
    "\n",
    "  model.compile(optimizer='rmsprop', loss='mse', metrics=RMSE)\n",
    "  return model"
   ]
  },
  {
   "cell_type": "code",
   "execution_count": 64,
   "metadata": {
    "colab": {
     "base_uri": "https://localhost:8080/"
    },
    "executionInfo": {
     "elapsed": 40676,
     "status": "ok",
     "timestamp": 1602051972702,
     "user": {
      "displayName": "Huzeyfe Ayaz",
      "photoUrl": "",
      "userId": "04212809444872264866"
     },
     "user_tz": -180
    },
    "id": "Il1bCJrEGMiC",
    "outputId": "a0b873da-4882-4318-e171-60d17903ffcc"
   },
   "outputs": [
    {
     "name": "stdout",
     "output_type": "stream",
     "text": [
      "4/4 [==============================] - 0s 3ms/step - loss: 18.2219 - RMSE: 2.6565\n",
      "4/4 [==============================] - 0s 3ms/step - loss: 15.8207 - RMSE: 2.6226\n",
      "4/4 [==============================] - 0s 3ms/step - loss: 18.4171 - RMSE: 2.8106\n",
      "4/4 [==============================] - 0s 3ms/step - loss: 14.4205 - RMSE: 2.7120\n",
      "4/4 [==============================] - 0s 3ms/step - loss: 16.7071 - RMSE: 2.6969\n",
      "4/4 [==============================] - 0s 2ms/step - loss: 16.4052 - RMSE: 2.5547\n",
      "4/4 [==============================] - 0s 5ms/step - loss: 16.5790 - RMSE: 2.5308\n",
      "4/4 [==============================] - 0s 3ms/step - loss: 17.6878 - RMSE: 2.6500\n",
      "4/4 [==============================] - 0s 2ms/step - loss: 17.1926 - RMSE: 2.6908\n",
      "4/4 [==============================] - 0s 2ms/step - loss: 17.1858 - RMSE: 2.7560\n"
     ]
    }
   ],
   "source": [
    "rmse_scores = []\n",
    "for step in range(10):\n",
    "  model = build_model()\n",
    "  model.fit(train_data[:, sorted_idxs[:9]], train_labels, epochs=20, batch_size=4, verbose=0)\n",
    "  rmse_scores.append(model.evaluate(test_data[:, sorted_idxs[:9]], test_labels)[1])"
   ]
  },
  {
   "cell_type": "code",
   "execution_count": 65,
   "metadata": {
    "colab": {
     "base_uri": "https://localhost:8080/"
    },
    "executionInfo": {
     "elapsed": 988,
     "status": "ok",
     "timestamp": 1602051983995,
     "user": {
      "displayName": "Huzeyfe Ayaz",
      "photoUrl": "",
      "userId": "04212809444872264866"
     },
     "user_tz": -180
    },
    "id": "aKCvtNVFGMjI",
    "outputId": "1c7c284a-9526-4df7-a508-67300b99069b"
   },
   "outputs": [
    {
     "name": "stdout",
     "output_type": "stream",
     "text": [
      "RMSE Score: 2.668097186088562\n"
     ]
    }
   ],
   "source": [
    "print('RMSE Score:',np.mean(rmse_scores))"
   ]
  },
  {
   "cell_type": "markdown",
   "metadata": {
    "id": "8enPxvvhLAy1"
   },
   "source": [
    "Now, we got a better RMSE score than ever."
   ]
  }
 ],
 "metadata": {
  "accelerator": "GPU",
  "colab": {
   "collapsed_sections": [],
   "name": "BostonHousingDataset.ipynb",
   "provenance": []
  },
  "kernelspec": {
   "display_name": "Python 3",
   "language": "python",
   "name": "python3"
  },
  "language_info": {
   "codemirror_mode": {
    "name": "ipython",
    "version": 3
   },
   "file_extension": ".py",
   "mimetype": "text/x-python",
   "name": "python",
   "nbconvert_exporter": "python",
   "pygments_lexer": "ipython3",
   "version": "3.8.1"
  }
 },
 "nbformat": 4,
 "nbformat_minor": 1
}
