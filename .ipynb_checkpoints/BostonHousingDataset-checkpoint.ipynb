{
 "cells": [
  {
   "cell_type": "markdown",
   "metadata": {
    "colab_type": "text",
    "id": "ToVUSDXxqwBV"
   },
   "source": [
    "# Regression Analysis with the Boston Housing Dataset in Keras\n",
    "\n",
    "In this notebook we will cover the following issues:\n",
    "\n",
    "* How to create a simple regressor NN model and work with continuous numerical data\n",
    "* Using K-Fold cross-validation in order to get more general results for our models (Sklearn library used for that)\n",
    "* Mean Squared Error (MSE) and Mean Absolute Error (MAE)"
   ]
  },
  {
   "cell_type": "markdown",
   "metadata": {
    "colab_type": "text",
    "id": "7t63OCoI8OrG"
   },
   "source": [
    "### Required Modules"
   ]
  },
  {
   "cell_type": "code",
   "execution_count": null,
   "metadata": {
    "colab": {},
    "colab_type": "code",
    "id": "t1y5gDoD5FjH"
   },
   "outputs": [],
   "source": [
    "from keras.datasets import boston_housing\n",
    "import numpy as np\n",
    "from keras import models, layers\n",
    "from sklearn.preprocessing import StandardScaler\n",
    "from sklearn.model_selection import KFold"
   ]
  },
  {
   "cell_type": "markdown",
   "metadata": {
    "colab_type": "text",
    "id": "iwUoabjZ8SHg"
   },
   "source": [
    "### Loading and Exploring Dataset"
   ]
  },
  {
   "cell_type": "code",
   "execution_count": null,
   "metadata": {
    "colab": {
     "base_uri": "https://localhost:8080/",
     "height": 54
    },
    "colab_type": "code",
    "executionInfo": {
     "elapsed": 2997,
     "status": "ok",
     "timestamp": 1599983204399,
     "user": {
      "displayName": "Huzeyfe Ayaz",
      "photoUrl": "",
      "userId": "04212809444872264866"
     },
     "user_tz": -180
    },
    "id": "r2tBxv0m5NZc",
    "outputId": "5d01d6ba-13d1-49db-b7a6-7e240160ea71"
   },
   "outputs": [
    {
     "name": "stdout",
     "output_type": "stream",
     "text": [
      "Downloading data from https://storage.googleapis.com/tensorflow/tf-keras-datasets/boston_housing.npz\n",
      "57344/57026 [==============================] - 0s 0us/step\n"
     ]
    }
   ],
   "source": [
    "(train_data, train_labels), (test_data, test_labels) = boston_housing.load_data()"
   ]
  },
  {
   "cell_type": "markdown",
   "metadata": {
    "colab_type": "text",
    "id": "dhVAXphw-Qla"
   },
   "source": [
    "* In this case, we have a limited dataset 404 samples for training and 102 samples for testing."
   ]
  },
  {
   "cell_type": "code",
   "execution_count": null,
   "metadata": {
    "colab": {
     "base_uri": "https://localhost:8080/",
     "height": 35
    },
    "colab_type": "code",
    "executionInfo": {
     "elapsed": 2947,
     "status": "ok",
     "timestamp": 1599983204404,
     "user": {
      "displayName": "Huzeyfe Ayaz",
      "photoUrl": "",
      "userId": "04212809444872264866"
     },
     "user_tz": -180
    },
    "id": "IzEI0Y1g5kF9",
    "outputId": "31ea4109-71a5-4013-b52c-17da9cdab89e"
   },
   "outputs": [
    {
     "data": {
      "text/plain": [
       "(404, 13)"
      ]
     },
     "execution_count": 3,
     "metadata": {
      "tags": []
     },
     "output_type": "execute_result"
    }
   ],
   "source": [
    "train_data.shape"
   ]
  },
  {
   "cell_type": "code",
   "execution_count": null,
   "metadata": {
    "colab": {
     "base_uri": "https://localhost:8080/",
     "height": 35
    },
    "colab_type": "code",
    "executionInfo": {
     "elapsed": 2927,
     "status": "ok",
     "timestamp": 1599983204412,
     "user": {
      "displayName": "Huzeyfe Ayaz",
      "photoUrl": "",
      "userId": "04212809444872264866"
     },
     "user_tz": -180
    },
    "id": "sWOxUti85lt4",
    "outputId": "69cc603e-acfa-461d-83c0-dad3daba2f13"
   },
   "outputs": [
    {
     "data": {
      "text/plain": [
       "(102, 13)"
      ]
     },
     "execution_count": 4,
     "metadata": {
      "tags": []
     },
     "output_type": "execute_result"
    }
   ],
   "source": [
    "test_data.shape"
   ]
  },
  {
   "cell_type": "markdown",
   "metadata": {
    "colab_type": "text",
    "id": "CJCtXhhB-kg1"
   },
   "source": [
    "* Labels consist of prices of the houses in Boston in the mid of 1970s.\n",
    "* They were written in short form as 50, which represents 50000$."
   ]
  },
  {
   "cell_type": "code",
   "execution_count": null,
   "metadata": {
    "colab": {
     "base_uri": "https://localhost:8080/",
     "height": 35
    },
    "colab_type": "code",
    "executionInfo": {
     "elapsed": 4138,
     "status": "ok",
     "timestamp": 1599921256987,
     "user": {
      "displayName": "Huzeyfe Ayaz",
      "photoUrl": "",
      "userId": "04212809444872264866"
     },
     "user_tz": -180
    },
    "id": "h-YibCX_5owL",
    "outputId": "67c38524-cc82-41db-c790-1d36f65964ad"
   },
   "outputs": [
    {
     "data": {
      "text/plain": [
       "array([15.2, 42.3, 50. , 21.1, 17.7, 18.5, 11.3, 15.6, 15.6, 14.4])"
      ]
     },
     "execution_count": 5,
     "metadata": {
      "tags": []
     },
     "output_type": "execute_result"
    }
   ],
   "source": [
    "train_labels[:10]"
   ]
  },
  {
   "cell_type": "markdown",
   "metadata": {
    "colab_type": "text",
    "id": "LAR5N-lnr5Wa"
   },
   "source": [
    "### Normalizing Data\n",
    "\n",
    "* StandardScaler in Scikit-learn library normalizes data in feature-based instead of sample base."
   ]
  },
  {
   "cell_type": "code",
   "execution_count": null,
   "metadata": {
    "colab": {},
    "colab_type": "code",
    "id": "Po9LP0Ws528U"
   },
   "outputs": [],
   "source": [
    "std = StandardScaler()\n",
    "\n",
    "train_data = std.fit_transform(train_data)\n",
    "test_data = std.transform(test_data)"
   ]
  },
  {
   "cell_type": "code",
   "execution_count": null,
   "metadata": {
    "colab": {
     "base_uri": "https://localhost:8080/",
     "height": 72
    },
    "colab_type": "code",
    "executionInfo": {
     "elapsed": 4107,
     "status": "ok",
     "timestamp": 1599921256990,
     "user": {
      "displayName": "Huzeyfe Ayaz",
      "photoUrl": "",
      "userId": "04212809444872264866"
     },
     "user_tz": -180
    },
    "id": "kiCLGK_N6py6",
    "outputId": "73da7eef-bda4-404b-ba15-dba178f2e2a5"
   },
   "outputs": [
    {
     "data": {
      "text/plain": [
       "array([-0.27224633, -0.48361547, -0.43576161, -0.25683275, -0.1652266 ,\n",
       "       -0.1764426 ,  0.81306188,  0.1166983 , -0.62624905, -0.59517003,\n",
       "        1.14850044,  0.44807713,  0.8252202 ])"
      ]
     },
     "execution_count": 7,
     "metadata": {
      "tags": []
     },
     "output_type": "execute_result"
    }
   ],
   "source": [
    "train_data[0]"
   ]
  },
  {
   "cell_type": "markdown",
   "metadata": {
    "colab_type": "text",
    "id": "3QmTdMLvChH9"
   },
   "source": [
    "* Before start the fitting process of the model, let's separate 100 samples as validation data from the training"
   ]
  },
  {
   "cell_type": "code",
   "execution_count": null,
   "metadata": {
    "colab": {},
    "colab_type": "code",
    "id": "b4zgRpdqyOJL"
   },
   "outputs": [],
   "source": [
    "X_train = train_data[100:]\n",
    "y_train = train_labels[100:]\n",
    "X_val = train_data[:100]\n",
    "y_val = train_labels[:100]"
   ]
  },
  {
   "cell_type": "markdown",
   "metadata": {
    "colab_type": "text",
    "id": "8zyPe8xhC2MV"
   },
   "source": [
    "### Building and Fitting Model\n",
    "\n",
    "Since we will be using the same model many times later, we have built it inside a function:\n",
    "\n",
    "* Our model consists of 4 hidden layers with 128, 64, 16, and 4 units. Rectified Linear Unit `ReLu` activation function is used.\n",
    "* `Rmsprop` is used as the optimizer. However, you might try `Adam` or `SGD` as well. Besides, we can count `Tanh` activation as another option."
   ]
  },
  {
   "cell_type": "code",
   "execution_count": null,
   "metadata": {
    "colab": {},
    "colab_type": "code",
    "id": "J_O4IM3q7JpL"
   },
   "outputs": [],
   "source": [
    "def build_model():\n",
    "  model = models.Sequential()\n",
    "  model.add(layers.Dense(128, activation='relu', input_shape=(train_data.shape[1],)))\n",
    "  model.add(layers.Dense(64, activation='relu'))\n",
    "  model.add(layers.Dense(16, activation='relu'))\n",
    "  model.add(layers.Dense(4, activation='relu'))\n",
    "  model.add(layers.Dense(1)) # For regression, there is no activation function \n",
    "                             # and a single unit should be used in the layer.\n",
    "\n",
    "  model.compile(optimizer='rmsprop', loss='mse', metrics=['mae'])\n",
    "  return model"
   ]
  },
  {
   "cell_type": "code",
   "execution_count": null,
   "metadata": {
    "colab": {
     "base_uri": "https://localhost:8080/",
     "height": 752
    },
    "colab_type": "code",
    "executionInfo": {
     "elapsed": 9874,
     "status": "ok",
     "timestamp": 1599921262793,
     "user": {
      "displayName": "Huzeyfe Ayaz",
      "photoUrl": "",
      "userId": "04212809444872264866"
     },
     "user_tz": -180
    },
    "id": "IBd1TPXO6q04",
    "outputId": "ad30c3f7-d1bf-4a82-ef6f-1e4dce854860"
   },
   "outputs": [
    {
     "name": "stdout",
     "output_type": "stream",
     "text": [
      "Epoch 1/20\n",
      "76/76 [==============================] - 0s 6ms/step - loss: 200.7920 - mae: 10.9542 - val_loss: 34.8257 - val_mae: 3.9821\n",
      "Epoch 2/20\n",
      "76/76 [==============================] - 0s 2ms/step - loss: 31.2657 - mae: 3.9388 - val_loss: 22.4652 - val_mae: 3.3547\n",
      "Epoch 3/20\n",
      "76/76 [==============================] - 0s 3ms/step - loss: 21.0626 - mae: 3.1302 - val_loss: 16.4121 - val_mae: 2.8201\n",
      "Epoch 4/20\n",
      "76/76 [==============================] - 0s 3ms/step - loss: 18.1595 - mae: 2.8867 - val_loss: 15.8029 - val_mae: 2.7889\n",
      "Epoch 5/20\n",
      "76/76 [==============================] - 0s 3ms/step - loss: 15.7975 - mae: 2.7387 - val_loss: 11.3968 - val_mae: 2.2820\n",
      "Epoch 6/20\n",
      "76/76 [==============================] - 0s 3ms/step - loss: 13.4953 - mae: 2.5800 - val_loss: 11.2366 - val_mae: 2.2701\n",
      "Epoch 7/20\n",
      "76/76 [==============================] - 0s 4ms/step - loss: 13.4130 - mae: 2.5274 - val_loss: 9.8178 - val_mae: 2.1030\n",
      "Epoch 8/20\n",
      "76/76 [==============================] - 0s 3ms/step - loss: 12.0948 - mae: 2.4020 - val_loss: 9.3299 - val_mae: 2.1104\n",
      "Epoch 9/20\n",
      "76/76 [==============================] - 0s 4ms/step - loss: 11.3894 - mae: 2.3949 - val_loss: 10.4932 - val_mae: 2.4091\n",
      "Epoch 10/20\n",
      "76/76 [==============================] - 0s 3ms/step - loss: 10.8076 - mae: 2.3158 - val_loss: 10.3316 - val_mae: 2.1055\n",
      "Epoch 11/20\n",
      "76/76 [==============================] - 0s 2ms/step - loss: 10.5169 - mae: 2.2215 - val_loss: 9.4314 - val_mae: 2.2133\n",
      "Epoch 12/20\n",
      "76/76 [==============================] - 0s 2ms/step - loss: 10.2677 - mae: 2.1976 - val_loss: 9.5232 - val_mae: 2.0619\n",
      "Epoch 13/20\n",
      "76/76 [==============================] - 0s 2ms/step - loss: 9.5174 - mae: 2.1841 - val_loss: 9.0677 - val_mae: 2.0037\n",
      "Epoch 14/20\n",
      "76/76 [==============================] - 0s 3ms/step - loss: 9.5246 - mae: 2.1679 - val_loss: 8.8564 - val_mae: 2.0838\n",
      "Epoch 15/20\n",
      "76/76 [==============================] - 0s 3ms/step - loss: 8.5810 - mae: 2.0324 - val_loss: 11.9337 - val_mae: 2.6505\n",
      "Epoch 16/20\n",
      "76/76 [==============================] - 0s 3ms/step - loss: 8.9526 - mae: 2.0774 - val_loss: 8.7399 - val_mae: 2.1499\n",
      "Epoch 17/20\n",
      "76/76 [==============================] - 0s 3ms/step - loss: 9.0899 - mae: 2.1315 - val_loss: 11.3549 - val_mae: 2.4972\n",
      "Epoch 18/20\n",
      "76/76 [==============================] - 0s 3ms/step - loss: 8.9507 - mae: 2.0769 - val_loss: 10.5244 - val_mae: 2.1637\n",
      "Epoch 19/20\n",
      "76/76 [==============================] - 0s 3ms/step - loss: 8.8349 - mae: 2.0666 - val_loss: 8.6087 - val_mae: 2.1143\n",
      "Epoch 20/20\n",
      "76/76 [==============================] - 0s 2ms/step - loss: 7.9484 - mae: 1.9909 - val_loss: 8.0303 - val_mae: 1.9691\n"
     ]
    }
   ],
   "source": [
    "model = build_model()\n",
    "history = model.fit(X_train, y_train, epochs=20, batch_size=4, validation_data=(X_val, y_val))"
   ]
  },
  {
   "cell_type": "markdown",
   "metadata": {
    "colab_type": "text",
    "id": "Xv3ioOtjDTpD"
   },
   "source": [
    "* At the end of 20 epoch, we got roughly 1.97 validation mean absolute error, which equivalent to 1970\\\\$ error in the validation set.\n",
    "* However, in the test case, we have a 2720\\\\$ error. That makes a 750\\\\$ gap between validation and test scores. That means the model tends to overfit the validation set."
   ]
  },
  {
   "cell_type": "code",
   "execution_count": null,
   "metadata": {
    "colab": {
     "base_uri": "https://localhost:8080/",
     "height": 54
    },
    "colab_type": "code",
    "executionInfo": {
     "elapsed": 10162,
     "status": "ok",
     "timestamp": 1599921263108,
     "user": {
      "displayName": "Huzeyfe Ayaz",
      "photoUrl": "",
      "userId": "04212809444872264866"
     },
     "user_tz": -180
    },
    "id": "eWEocxSm8QPC",
    "outputId": "990347fb-8b37-4d7a-edb7-a8ffa730d5f5"
   },
   "outputs": [
    {
     "name": "stdout",
     "output_type": "stream",
     "text": [
      "4/4 [==============================] - 0s 2ms/step - loss: 19.0536 - mae: 2.7212\n"
     ]
    },
    {
     "data": {
      "text/plain": [
       "[19.053613662719727, 2.7211787700653076]"
      ]
     },
     "execution_count": 11,
     "metadata": {
      "tags": []
     },
     "output_type": "execute_result"
    }
   ],
   "source": [
    "model.evaluate(test_data, test_labels)"
   ]
  },
  {
   "cell_type": "markdown",
   "metadata": {
    "colab_type": "text",
    "id": "ZAQhinOGDfCU"
   },
   "source": [
    "### Validating Model Using KFold\n",
    "\n",
    "* Previously, we used 100 samples as validation data, and we observed that data tends to overfit validation data. During K-Fold, we are splitting data in 10 portion that makes 364 training and 40 test sample for each fold.\n",
    "* Now, let's use 10-Fold cross-validation to obtain average test error"
   ]
  },
  {
   "cell_type": "code",
   "execution_count": null,
   "metadata": {
    "colab": {
     "base_uri": "https://localhost:8080/",
     "height": 201
    },
    "colab_type": "code",
    "executionInfo": {
     "elapsed": 48517,
     "status": "ok",
     "timestamp": 1599921301487,
     "user": {
      "displayName": "Huzeyfe Ayaz",
      "photoUrl": "",
      "userId": "04212809444872264866"
     },
     "user_tz": -180
    },
    "id": "Yuc-XMVW8sqJ",
    "outputId": "f4749c7c-2829-4891-dea3-8336adad181e"
   },
   "outputs": [
    {
     "name": "stdout",
     "output_type": "stream",
     "text": [
      "4/4 [==============================] - 0s 7ms/step - loss: 20.9725 - mae: 2.8901\n",
      "4/4 [==============================] - 0s 5ms/step - loss: 21.1001 - mae: 2.8806\n",
      "4/4 [==============================] - 0s 3ms/step - loss: 19.1039 - mae: 2.7260\n",
      "4/4 [==============================] - 0s 2ms/step - loss: 17.1655 - mae: 2.7352\n",
      "4/4 [==============================] - 0s 3ms/step - loss: 19.2768 - mae: 2.8365\n",
      "4/4 [==============================] - 0s 3ms/step - loss: 23.5524 - mae: 3.2920\n",
      "4/4 [==============================] - 0s 3ms/step - loss: 20.7972 - mae: 2.9213\n",
      "4/4 [==============================] - 0s 3ms/step - loss: 18.9536 - mae: 2.6662\n",
      "4/4 [==============================] - 0s 2ms/step - loss: 19.5892 - mae: 2.8592\n",
      "4/4 [==============================] - 0s 3ms/step - loss: 18.6407 - mae: 2.7264\n"
     ]
    }
   ],
   "source": [
    "kf = KFold(n_splits=10, shuffle=True, random_state=1)\n",
    "val_scores = []\n",
    "test_scores = []\n",
    "\n",
    "for train_index, test_index in kf.split(train_data, train_labels):\n",
    "  X_train, X_val = train_data[train_index], train_data[test_index]\n",
    "  y_train, y_val = train_labels[train_index], train_labels[test_index]\n",
    "\n",
    "  model = build_model()\n",
    "  history = model.fit(X_train, y_train, epochs=20, batch_size=4, verbose=0, validation_data=(X_val, y_val))\n",
    "  val_scores.append(history.history['val_mae'][-1])\n",
    "  test_scores.append(model.evaluate(test_data, test_labels)[1])"
   ]
  },
  {
   "cell_type": "markdown",
   "metadata": {
    "colab_type": "text",
    "id": "DWMDMTj0xWpb"
   },
   "source": [
    "As a new result, we have a 500\\\\$ gap between validation and test data since we have decreased the amount of validation data."
   ]
  },
  {
   "cell_type": "code",
   "execution_count": null,
   "metadata": {
    "colab": {
     "base_uri": "https://localhost:8080/",
     "height": 35
    },
    "colab_type": "code",
    "executionInfo": {
     "elapsed": 48510,
     "status": "ok",
     "timestamp": 1599921301503,
     "user": {
      "displayName": "Huzeyfe Ayaz",
      "photoUrl": "",
      "userId": "04212809444872264866"
     },
     "user_tz": -180
    },
    "id": "ueUu2XXVCkj_",
    "outputId": "a8cb1def-3666-44b2-f093-a1e152c2df3c"
   },
   "outputs": [
    {
     "data": {
      "text/plain": [
       "0.5034162402153015"
      ]
     },
     "execution_count": 13,
     "metadata": {
      "tags": []
     },
     "output_type": "execute_result"
    }
   ],
   "source": [
    "np.mean(np.abs(np.ravel(test_scores)-np.ravel(val_scores)))"
   ]
  },
  {
   "cell_type": "markdown",
   "metadata": {
    "colab_type": "text",
    "id": "5HIt0QImQ2_m"
   },
   "source": [
    "* We have roughly 2850\\\\$ test error on average. That means we hurt the test performance a bit."
   ]
  },
  {
   "cell_type": "code",
   "execution_count": null,
   "metadata": {
    "colab": {
     "base_uri": "https://localhost:8080/",
     "height": 35
    },
    "colab_type": "code",
    "executionInfo": {
     "elapsed": 48490,
     "status": "ok",
     "timestamp": 1599921301507,
     "user": {
      "displayName": "Huzeyfe Ayaz",
      "photoUrl": "",
      "userId": "04212809444872264866"
     },
     "user_tz": -180
    },
    "id": "5gf80qEqDNkD",
    "outputId": "76657989-328b-4143-9dd9-2e953529462e"
   },
   "outputs": [
    {
     "data": {
      "text/plain": [
       "2.8533445835113525"
      ]
     },
     "execution_count": 14,
     "metadata": {
      "tags": []
     },
     "output_type": "execute_result"
    }
   ],
   "source": [
    "np.mean(test_scores)"
   ]
  },
  {
   "cell_type": "markdown",
   "metadata": {
    "colab_type": "text",
    "id": "IUQoE3RmEuUQ"
   },
   "source": [
    "Now, since we have limited data, let's repeat the same process without using validation data. But in this case, we will concatenate the train and test samples in order to evaluate our model with a different portion of the whole data-set using 5-fold cross-validation.\n",
    "\n",
    "The main reason we chose 5-fold cross-validation is 1 portion of it comes across almost 100 samples as test data, which is the same amount as the previous case."
   ]
  },
  {
   "cell_type": "code",
   "execution_count": null,
   "metadata": {
    "colab": {},
    "colab_type": "code",
    "id": "HmwMv1RSDwjS"
   },
   "outputs": [],
   "source": [
    "X = np.concatenate((train_data, test_data), axis=0)\n",
    "y = np.concatenate((train_labels, test_labels), axis=0)"
   ]
  },
  {
   "cell_type": "code",
   "execution_count": null,
   "metadata": {
    "colab": {
     "base_uri": "https://localhost:8080/",
     "height": 35
    },
    "colab_type": "code",
    "executionInfo": {
     "elapsed": 48467,
     "status": "ok",
     "timestamp": 1599921301517,
     "user": {
      "displayName": "Huzeyfe Ayaz",
      "photoUrl": "",
      "userId": "04212809444872264866"
     },
     "user_tz": -180
    },
    "id": "s8SQTpbV5pxp",
    "outputId": "4e29c07b-85c8-4317-bce4-3ab3c52cef4c"
   },
   "outputs": [
    {
     "data": {
      "text/plain": [
       "(506, 13)"
      ]
     },
     "execution_count": 16,
     "metadata": {
      "tags": []
     },
     "output_type": "execute_result"
    }
   ],
   "source": [
    "X.shape"
   ]
  },
  {
   "cell_type": "code",
   "execution_count": null,
   "metadata": {
    "colab": {
     "base_uri": "https://localhost:8080/",
     "height": 109
    },
    "colab_type": "code",
    "executionInfo": {
     "elapsed": 63054,
     "status": "ok",
     "timestamp": 1599921316127,
     "user": {
      "displayName": "Huzeyfe Ayaz",
      "photoUrl": "",
      "userId": "04212809444872264866"
     },
     "user_tz": -180
    },
    "id": "CqVGXzTyDX5o",
    "outputId": "88340082-a115-4f1b-be37-6e335b1c43d6"
   },
   "outputs": [
    {
     "name": "stdout",
     "output_type": "stream",
     "text": [
      "4/4 [==============================] - 0s 2ms/step - loss: 18.3048 - mae: 2.7950\n",
      "4/4 [==============================] - 0s 2ms/step - loss: 12.2931 - mae: 2.3391\n",
      "4/4 [==============================] - 0s 3ms/step - loss: 11.6508 - mae: 2.6909\n",
      "4/4 [==============================] - 0s 2ms/step - loss: 21.0789 - mae: 2.5324\n",
      "4/4 [==============================] - 0s 2ms/step - loss: 10.5325 - mae: 2.4890\n"
     ]
    }
   ],
   "source": [
    "kf = KFold(n_splits=5, shuffle=True, random_state=1)\n",
    "scores = []\n",
    "\n",
    "for train_index, test_index in kf.split(X, y):\n",
    "  X_train, X_test = X[train_index], X[test_index]\n",
    "  y_train, y_test = y[train_index], y[test_index]\n",
    "\n",
    "  model = build_model()\n",
    "  model.fit(X_train, y_train, epochs=20, batch_size=4, verbose=0)\n",
    "  scores.append(model.evaluate(X_test, y_test)[1])"
   ]
  },
  {
   "cell_type": "code",
   "execution_count": null,
   "metadata": {
    "colab": {
     "base_uri": "https://localhost:8080/",
     "height": 109
    },
    "colab_type": "code",
    "executionInfo": {
     "elapsed": 63038,
     "status": "ok",
     "timestamp": 1599921316132,
     "user": {
      "displayName": "Huzeyfe Ayaz",
      "photoUrl": "",
      "userId": "04212809444872264866"
     },
     "user_tz": -180
    },
    "id": "_NYK3cjVEPKf",
    "outputId": "d1d0f91b-1129-47db-da70-958fc294e0e3"
   },
   "outputs": [
    {
     "data": {
      "text/plain": [
       "[2.794982671737671,\n",
       " 2.3391175270080566,\n",
       " 2.690911054611206,\n",
       " 2.5324416160583496,\n",
       " 2.4890496730804443]"
      ]
     },
     "execution_count": 18,
     "metadata": {
      "tags": []
     },
     "output_type": "execute_result"
    }
   ],
   "source": [
    "scores"
   ]
  },
  {
   "cell_type": "markdown",
   "metadata": {
    "colab_type": "text",
    "id": "WtiqN6RbRp7k"
   },
   "source": [
    "Now, we have obtained a 2.57 MAE score and 2570\\\\$ overall deviation which is better than our previous cases."
   ]
  },
  {
   "cell_type": "code",
   "execution_count": null,
   "metadata": {
    "colab": {
     "base_uri": "https://localhost:8080/",
     "height": 35
    },
    "colab_type": "code",
    "executionInfo": {
     "elapsed": 63019,
     "status": "ok",
     "timestamp": 1599921316137,
     "user": {
      "displayName": "Huzeyfe Ayaz",
      "photoUrl": "",
      "userId": "04212809444872264866"
     },
     "user_tz": -180
    },
    "id": "3TnHXHf_EUvT",
    "outputId": "2a74fd09-7944-414e-b5c4-2b1169c060d1"
   },
   "outputs": [
    {
     "data": {
      "text/plain": [
       "2.5693005084991456"
      ]
     },
     "execution_count": 19,
     "metadata": {
      "tags": []
     },
     "output_type": "execute_result"
    }
   ],
   "source": [
    "np.mean(scores)"
   ]
  },
  {
   "cell_type": "markdown",
   "metadata": {
    "colab_type": "text",
    "id": "YWYkWT-IShT7"
   },
   "source": [
    "### One More Thing!\n",
    "\n",
    "In Kaggle's competition of [Boston Housing](https://www.kaggle.com/c/boston-housing/overview), they were looking at Root Mean Squared Error `RMSE`. Let's change our evaluation matrices as RMSE and re-train our model."
   ]
  },
  {
   "cell_type": "code",
   "execution_count": null,
   "metadata": {
    "colab": {},
    "colab_type": "code",
    "id": "Pldnml_BbHWI"
   },
   "outputs": [],
   "source": [
    "from keras import backend as K\n",
    "import tensorflow as tf\n",
    "\n",
    "@tf.function\n",
    "def RMSE(y_true, y_pred):\n",
    "    return K.sqrt(K.mean(K.square(y_pred - y_true), axis=-1)) \n",
    "\n",
    "def build_model():\n",
    "  model = models.Sequential()\n",
    "  model.add(layers.Dense(128, activation='relu', input_shape=(train_data.shape[1],)))\n",
    "  model.add(layers.Dense(64, activation='relu'))\n",
    "  model.add(layers.Dense(16, activation='relu'))\n",
    "  model.add(layers.Dense(4, activation='relu'))\n",
    "  model.add(layers.Dense(1))\n",
    "\n",
    "  model.compile(optimizer='rmsprop', loss='mse', metrics=RMSE)\n",
    "  return model"
   ]
  },
  {
   "cell_type": "markdown",
   "metadata": {
    "colab_type": "text",
    "id": "PQqau6q_b5bp"
   },
   "source": [
    "Since TensorFlow creates randomly initialized weights each time, let's repeat the training process 10 times and take the mean of them."
   ]
  },
  {
   "cell_type": "code",
   "execution_count": null,
   "metadata": {
    "colab": {
     "base_uri": "https://localhost:8080/",
     "height": 201
    },
    "colab_type": "code",
    "executionInfo": {
     "elapsed": 23589,
     "status": "ok",
     "timestamp": 1599983791215,
     "user": {
      "displayName": "Huzeyfe Ayaz",
      "photoUrl": "",
      "userId": "04212809444872264866"
     },
     "user_tz": -180
    },
    "id": "Qil0solFbHWk",
    "outputId": "650da1cb-bb5c-4827-a513-2f1a419c8d2e"
   },
   "outputs": [
    {
     "name": "stdout",
     "output_type": "stream",
     "text": [
      "4/4 [==============================] - 0s 2ms/step - loss: 19.6094 - RMSE: 2.7888\n",
      "4/4 [==============================] - 0s 2ms/step - loss: 17.0145 - RMSE: 2.6931\n",
      "4/4 [==============================] - 0s 2ms/step - loss: 22.6765 - RMSE: 2.8130\n",
      "4/4 [==============================] - 0s 2ms/step - loss: 20.1473 - RMSE: 2.9024\n",
      "4/4 [==============================] - 0s 2ms/step - loss: 22.0698 - RMSE: 3.1855\n",
      "4/4 [==============================] - 0s 2ms/step - loss: 16.5019 - RMSE: 2.5514\n",
      "4/4 [==============================] - 0s 2ms/step - loss: 20.5165 - RMSE: 2.8630\n",
      "4/4 [==============================] - 0s 2ms/step - loss: 19.3173 - RMSE: 2.7478\n",
      "4/4 [==============================] - 0s 2ms/step - loss: 15.4472 - RMSE: 2.6299\n",
      "4/4 [==============================] - 0s 2ms/step - loss: 22.1246 - RMSE: 2.8887\n"
     ]
    }
   ],
   "source": [
    "rmse_scores = []\n",
    "for step in range(10):\n",
    "  model = build_model()\n",
    "  model.fit(train_data, train_labels, epochs=20, batch_size=4, verbose=0)\n",
    "  rmse_scores.append(model.evaluate(test_data, test_labels)[1])"
   ]
  },
  {
   "cell_type": "code",
   "execution_count": null,
   "metadata": {
    "colab": {
     "base_uri": "https://localhost:8080/",
     "height": 35
    },
    "colab_type": "code",
    "executionInfo": {
     "elapsed": 1057,
     "status": "ok",
     "timestamp": 1599983880391,
     "user": {
      "displayName": "Huzeyfe Ayaz",
      "photoUrl": "",
      "userId": "04212809444872264866"
     },
     "user_tz": -180
    },
    "id": "40XYA-7ocKbR",
    "outputId": "41a1dd97-0bc6-40f2-ad64-19af2c7f36c0"
   },
   "outputs": [
    {
     "name": "stdout",
     "output_type": "stream",
     "text": [
      "RMSE Score: 2.8063689708709716\n"
     ]
    }
   ],
   "source": [
    "print('RMSE Score:',np.mean(rmse_scores))"
   ]
  },
  {
   "cell_type": "markdown",
   "metadata": {
    "colab_type": "text",
    "id": "Q7SYywNIeAv5"
   },
   "source": [
    "We got a 2.8 RMSE score on average, which places us within the top 5 in the leaderboard even without making any feature engineering."
   ]
  }
 ],
 "metadata": {
  "colab": {
   "authorship_tag": "ABX9TyPdpcs8OvsrRvFNnFR/kr8N",
   "collapsed_sections": [],
   "name": "3.6.BostonHouseDataset.ipynb",
   "provenance": []
  },
  "kernelspec": {
   "display_name": "Python 3",
   "language": "python",
   "name": "python3"
  },
  "language_info": {
   "codemirror_mode": {
    "name": "ipython",
    "version": 3
   },
   "file_extension": ".py",
   "mimetype": "text/x-python",
   "name": "python",
   "nbconvert_exporter": "python",
   "pygments_lexer": "ipython3",
   "version": "3.7.3"
  }
 },
 "nbformat": 4,
 "nbformat_minor": 1
}
